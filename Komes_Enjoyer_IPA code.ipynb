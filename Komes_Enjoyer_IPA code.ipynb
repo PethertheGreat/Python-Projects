{
 "cells": [
  {
   "cell_type": "code",
   "execution_count": 1,
   "id": "ae2db226",
   "metadata": {},
   "outputs": [],
   "source": [
    "#Importing libraries\n",
    "\n",
    "import pandas as pd\n",
    "import numpy as np\n",
    "import matplotlib.pyplot as plt"
   ]
  },
  {
   "cell_type": "code",
   "execution_count": 2,
   "id": "c0378834",
   "metadata": {},
   "outputs": [
    {
     "name": "stdout",
     "output_type": "stream",
     "text": [
      "   IsIPA     OG     FG   ABV    IBU  Color  BoilTime  BoilGravity  PitchRate  \\\n",
      "0  False  1.069  1.007  8.12   0.00  30.48        60          NaN        NaN   \n",
      "1  False  1.064  1.012  6.80   9.36   9.85        60        1.132       0.50   \n",
      "2  False  1.061  1.015  6.08  28.31  35.83        60        1.044       0.35   \n",
      "3  False  1.053  1.012  5.44  46.48   5.77        60        1.033        NaN   \n",
      "4  False  1.053  1.017  4.64  42.29   4.22        90        1.039       0.50   \n",
      "\n",
      "   Efficiency   UserId  \n",
      "0        75.0      NaN  \n",
      "1        35.0      NaN  \n",
      "2        83.0  42087.0  \n",
      "3        70.0      NaN  \n",
      "4        77.0  14729.0  \n"
     ]
    }
   ],
   "source": [
    "df = pd.read_csv(r\"C:\\Users\\Piotr\\Downloads\\IPA.csv\")\n",
    "print(df.head())"
   ]
  },
  {
   "cell_type": "code",
   "execution_count": 3,
   "id": "bb6f47d4",
   "metadata": {},
   "outputs": [],
   "source": [
    "df.fillna(df.mean(), inplace=True)"
   ]
  },
  {
   "cell_type": "code",
   "execution_count": 4,
   "id": "bcdf5aed",
   "metadata": {},
   "outputs": [
    {
     "name": "stdout",
     "output_type": "stream",
     "text": [
      "True\n"
     ]
    }
   ],
   "source": [
    "print(np.any(np.isfinite(df)))"
   ]
  },
  {
   "cell_type": "code",
   "execution_count": 5,
   "id": "6b4dcf34",
   "metadata": {},
   "outputs": [],
   "source": [
    "X = df.drop('IsIPA',axis=1)\n",
    "y= df[\"IsIPA\"]"
   ]
  },
  {
   "cell_type": "code",
   "execution_count": 6,
   "id": "a54f5989",
   "metadata": {},
   "outputs": [],
   "source": [
    "# Splitting the dataset into training and testing sets\n",
    "from sklearn.model_selection import train_test_split\n",
    "X_train, X_test, y_train, y_test = train_test_split(X,y,test_size=0.3, random_state=1)\n"
   ]
  },
  {
   "cell_type": "code",
   "execution_count": 7,
   "id": "1ce6f57a",
   "metadata": {},
   "outputs": [
    {
     "data": {
      "text/plain": [
       "RandomForestClassifier()"
      ]
     },
     "execution_count": 7,
     "metadata": {},
     "output_type": "execute_result"
    }
   ],
   "source": [
    "# Creating the Random Forest model\n",
    "from sklearn.ensemble import RandomForestClassifier\n",
    "rfc = RandomForestClassifier()\n",
    "rfc.fit(X_train,y_train)\n"
   ]
  },
  {
   "cell_type": "code",
   "execution_count": 8,
   "id": "070b3407",
   "metadata": {},
   "outputs": [],
   "source": [
    "#Predictions\n",
    "\n",
    "rfc_predict = rfc.predict(X_test)"
   ]
  },
  {
   "cell_type": "code",
   "execution_count": null,
   "id": "d4e67523",
   "metadata": {},
   "outputs": [],
   "source": [
    "from sklearn.model_selection import cross_val_score\n",
    "from sklearn.metrics import classification_report, confusion_matrix\n",
    "\n",
    "rfc_cv_score = cross_val_score(rfc,X,y,cv=10,scoring=\"roc_auc\")\n",
    "\n",
    "print(\"=== Confusion Matrix ===\")\n",
    "print(confusion_matrix(y_test, rfc_predict))\n",
    "print('\\n')\n",
    "print(\"=== Classification Report ===\")\n",
    "print(classification_report(y_test, rfc_predict))\n",
    "print('\\n')\n",
    "print(\"=== All AUC Scores ===\")\n",
    "print(rfc_cv_score)\n",
    "print('\\n')\n",
    "print(\"=== Mean AUC Score ===\")\n",
    "print(\"Mean AUC Score - Random Forest: \", rfc_cv_score.mean())"
   ]
  },
  {
   "cell_type": "code",
   "execution_count": null,
   "id": "28f4348d",
   "metadata": {},
   "outputs": [],
   "source": [
    "# Load the test data\n",
    "df_test = pd.read_csv(r\"C:\\Users\\Piotr\\Downloads\\IPA_test.csv\")\n",
    "\n",
    "# Fill missing values with the mean of the column\n",
    "df_test.fillna(df_test.mean(), inplace=True)\n",
    "\n",
    "# Make predictions on the test data\n",
    "predictions = rfc.predict(df_test)\n",
    "\n",
    "# Create a new DataFrame with the predictions\n",
    "test_with_predictions = df_test.copy()\n",
    "test_with_predictions['Prediction'] = predictions.astype(int)\n",
    "\n",
    "# Save the DataFrame as a CSV file\n",
    "test_with_predictions.to_csv('IPA_test_predictions.csv', index=False)\n"
   ]
  },
  {
   "cell_type": "code",
   "execution_count": null,
   "id": "809617cb",
   "metadata": {},
   "outputs": [],
   "source": [
    "from IPython.display import FileLink\n",
    "FileLink(r'IPA_test_predictions.csv')\n"
   ]
  },
  {
   "cell_type": "code",
   "execution_count": null,
   "id": "b25c5702",
   "metadata": {},
   "outputs": [],
   "source": []
  }
 ],
 "metadata": {
  "kernelspec": {
   "display_name": "Python 3 (ipykernel)",
   "language": "python",
   "name": "python3"
  },
  "language_info": {
   "codemirror_mode": {
    "name": "ipython",
    "version": 3
   },
   "file_extension": ".py",
   "mimetype": "text/x-python",
   "name": "python",
   "nbconvert_exporter": "python",
   "pygments_lexer": "ipython3",
   "version": "3.9.13"
  }
 },
 "nbformat": 4,
 "nbformat_minor": 5
}
